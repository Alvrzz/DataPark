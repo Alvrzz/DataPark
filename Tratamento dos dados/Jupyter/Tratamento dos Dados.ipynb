{
 "cells": [
  {
   "cell_type": "code",
   "execution_count": 5,
   "id": "6411d3ee",
   "metadata": {},
   "outputs": [],
   "source": [
    "import mysql.connector\n",
    "import pandas as pd"
   ]
  },
  {
   "cell_type": "markdown",
   "id": "19e435d8",
   "metadata": {},
   "source": [
    "# Conexão python com nuvem:\n"
   ]
  },
  {
   "cell_type": "code",
   "execution_count": 6,
   "id": "6e521a16",
   "metadata": {
    "scrolled": true
   },
   "outputs": [
    {
     "name": "stdout",
     "output_type": "stream",
     "text": [
      "Conectado ao servidor MySQL versão 5.7.18\n"
     ]
    }
   ],
   "source": [
    "#conectar ao servidor\n",
    "con = mysql.connector.connect(host='3.89.36.150',database='e2122g4',user='e2122g4',password='e2122g4@16@ago')#conexão\n",
    "\n",
    "cursor = con.cursor() #cursor\n",
    "#conectar ao cursor\n",
    "if con.is_connected(): #se está conectado\n",
    "    db_info = con.get_server_info()\n",
    "    print(\"Conectado ao servidor MySQL versão\",db_info)"
   ]
  },
  {
   "cell_type": "code",
   "execution_count": 7,
   "id": "ccf43ef4",
   "metadata": {},
   "outputs": [
    {
     "data": {
      "text/plain": [
       "<mysql.connector.connection.MySQLConnection at 0x1fbd03fcb50>"
      ]
     },
     "execution_count": 7,
     "metadata": {},
     "output_type": "execute_result"
    }
   ],
   "source": [
    "con #conetar"
   ]
  },
  {
   "cell_type": "code",
   "execution_count": 8,
   "id": "46580189",
   "metadata": {},
   "outputs": [
    {
     "name": "stderr",
     "output_type": "stream",
     "text": [
      "C:\\Users\\alvar\\anaconda3\\lib\\site-packages\\pandas\\io\\sql.py:761: UserWarning: pandas only support SQLAlchemy connectable(engine/connection) ordatabase string URI or sqlite3 DBAPI2 connectionother DBAPI2 objects are not tested, please consider using SQLAlchemy\n",
      "  warnings.warn(\n"
     ]
    }
   ],
   "source": [
    "funcionarios = pd.read_sql_query('SELECT * FROM FUNCIONARIOS',con) #comando que será executado\n"
   ]
  },
  {
   "cell_type": "code",
   "execution_count": 9,
   "id": "d2ef9229",
   "metadata": {
    "scrolled": true
   },
   "outputs": [
    {
     "name": "stderr",
     "output_type": "stream",
     "text": [
      "C:\\Users\\alvar\\anaconda3\\lib\\site-packages\\pandas\\io\\sql.py:761: UserWarning: pandas only support SQLAlchemy connectable(engine/connection) ordatabase string URI or sqlite3 DBAPI2 connectionother DBAPI2 objects are not tested, please consider using SQLAlchemy\n",
      "  warnings.warn(\n"
     ]
    }
   ],
   "source": [
    "clima = pd.read_sql_query('SELECT * FROM CLIMA',con) #comando que será executado"
   ]
  },
  {
   "cell_type": "code",
   "execution_count": 10,
   "id": "4571baa8",
   "metadata": {},
   "outputs": [
    {
     "name": "stderr",
     "output_type": "stream",
     "text": [
      "C:\\Users\\alvar\\anaconda3\\lib\\site-packages\\pandas\\io\\sql.py:761: UserWarning: pandas only support SQLAlchemy connectable(engine/connection) ordatabase string URI or sqlite3 DBAPI2 connectionother DBAPI2 objects are not tested, please consider using SQLAlchemy\n",
      "  warnings.warn(\n"
     ]
    }
   ],
   "source": [
    "clientes = pd.read_sql_query('SELECT * FROM CLIENTES',con) #comando que será executado"
   ]
  },
  {
   "cell_type": "code",
   "execution_count": 11,
   "id": "6cebe0b8",
   "metadata": {},
   "outputs": [
    {
     "name": "stderr",
     "output_type": "stream",
     "text": [
      "C:\\Users\\alvar\\anaconda3\\lib\\site-packages\\pandas\\io\\sql.py:761: UserWarning: pandas only support SQLAlchemy connectable(engine/connection) ordatabase string URI or sqlite3 DBAPI2 connectionother DBAPI2 objects are not tested, please consider using SQLAlchemy\n",
      "  warnings.warn(\n"
     ]
    }
   ],
   "source": [
    "clientes = pd.read_sql_query('SELECT * FROM CLIENTES',con) #comando que será executado"
   ]
  },
  {
   "cell_type": "markdown",
   "id": "c65be44e",
   "metadata": {},
   "source": [
    "# Tratamento: "
   ]
  },
  {
   "cell_type": "code",
   "execution_count": 12,
   "id": "47c19819",
   "metadata": {},
   "outputs": [],
   "source": [
    "clientes = clientes.groupby(\"CLIENTE_DATA\",as_index=False).size()"
   ]
  },
  {
   "cell_type": "code",
   "execution_count": 13,
   "id": "08630dd7",
   "metadata": {
    "scrolled": true
   },
   "outputs": [],
   "source": [
    "funcionarios = funcionarios.groupby(\"FUNCIONARIO_DATA\",as_index=False).size()"
   ]
  },
  {
   "cell_type": "code",
   "execution_count": 14,
   "id": "1d0de2d3",
   "metadata": {},
   "outputs": [],
   "source": [
    "t_clientes = clientes.rename(columns={'size': 'Clientes'})"
   ]
  },
  {
   "cell_type": "code",
   "execution_count": 15,
   "id": "bc8b7229",
   "metadata": {
    "scrolled": true
   },
   "outputs": [],
   "source": [
    "t_funcionarios = funcionarios.rename(columns={'size': 'Funcionarios'})"
   ]
  },
  {
   "cell_type": "code",
   "execution_count": 16,
   "id": "d872cc64",
   "metadata": {},
   "outputs": [],
   "source": [
    "t_funcionarios = clima.join(t_funcionarios)"
   ]
  },
  {
   "cell_type": "code",
   "execution_count": 17,
   "id": "307b6b8b",
   "metadata": {},
   "outputs": [],
   "source": [
    "tabela_geral = pd.merge(t_clientes, t_funcionarios, left_on=\"CLIENTE_DATA\", right_on=\"FUNCIONARIO_DATA\", how='right')"
   ]
  },
  {
   "cell_type": "code",
   "execution_count": 18,
   "id": "0b71c5c8",
   "metadata": {},
   "outputs": [],
   "source": [
    "tabela_geral = tabela_geral.rename(columns={'CLIMA_CHUVA_MM': 'Chuva_mm'})"
   ]
  },
  {
   "cell_type": "code",
   "execution_count": 19,
   "id": "585444b2",
   "metadata": {},
   "outputs": [],
   "source": [
    "tabela_geral = tabela_geral[['FUNCIONARIO_DATA','Clientes','Funcionarios','Chuva_mm']]"
   ]
  },
  {
   "cell_type": "code",
   "execution_count": 20,
   "id": "b8162b6c",
   "metadata": {},
   "outputs": [],
   "source": [
    "tabela_geral = tabela_geral.rename(columns={'FUNCIONARIO_DATA': 'Data'})"
   ]
  },
  {
   "cell_type": "code",
   "execution_count": 29,
   "id": "fd762ff6",
   "metadata": {},
   "outputs": [],
   "source": [
    "enviar = tabela_geral"
   ]
  },
  {
   "cell_type": "code",
   "execution_count": 34,
   "id": "fc1fceaf",
   "metadata": {},
   "outputs": [
    {
     "name": "stdout",
     "output_type": "stream",
     "text": [
      "Adição de registros completa.\n"
     ]
    }
   ],
   "source": [
    "cursor.execute('''\n",
    "     DROP TABLE IF EXISTS TABELA_GERAL;\n",
    " ''')\n",
    "\n",
    "cursor.execute('''\n",
    "    CREATE TABLE TABELA_GERAL(\n",
    "        TABELA_ID INTEGER PRIMARY KEY AUTO_INCREMENT,\n",
    "        TABELA_DATA DATE NOT NULL,\n",
    "        TABELA_CLIENTES INTEGER NOT NULL,\n",
    "        TABELA_FUNCIONARIOS INTEGER NOT NULL,\n",
    "        TABELA_CHUVA INTEGER NOT NULL\n",
    "   );\n",
    "''')\n",
    "\n",
    "\n",
    "sql=('INSERT INTO TABELA_GERAL (TABELA_DATA,TABELA_CLIENTES,TABELA_FUNCIONARIOS,TABELA_CHUVA) VALUES (%s,%s,%s,%s) ')\n",
    "for index, row in enviar.iterrows():\n",
    "    val=(row.Data,row.Clientes,row.Funcionarios,row.Chuva_mm)    \n",
    "    cursor.execute(sql,val)\n",
    "con.commit()\n",
    "print('Adição de registros completa.')\n",
    "con.close()"
   ]
  },
  {
   "cell_type": "code",
   "execution_count": 23,
   "id": "e27f8124",
   "metadata": {},
   "outputs": [],
   "source": [
    "Fechar conexão\n",
    "cursor.close()\n",
    "con.close()\n",
    "print(\"Conexão encerrada\")"
   ]
  }
 ],
 "metadata": {
  "kernelspec": {
   "display_name": "Python 3 (ipykernel)",
   "language": "python",
   "name": "python3"
  },
  "language_info": {
   "codemirror_mode": {
    "name": "ipython",
    "version": 3
   },
   "file_extension": ".py",
   "mimetype": "text/x-python",
   "name": "python",
   "nbconvert_exporter": "python",
   "pygments_lexer": "ipython3",
   "version": "3.9.12"
  }
 },
 "nbformat": 4,
 "nbformat_minor": 5
}
