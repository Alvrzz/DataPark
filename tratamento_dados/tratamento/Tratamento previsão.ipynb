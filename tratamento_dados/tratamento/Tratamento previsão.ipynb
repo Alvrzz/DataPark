{
 "cells": [
  {
   "cell_type": "code",
   "execution_count": 6,
   "id": "b875e9b0",
   "metadata": {},
   "outputs": [],
   "source": [
    "import mysql.connector\n",
    "import pandas as pd"
   ]
  },
  {
   "cell_type": "code",
   "execution_count": 7,
   "id": "0f8f3823",
   "metadata": {},
   "outputs": [
    {
     "name": "stdout",
     "output_type": "stream",
     "text": [
      "Conectado ao servidor MySQL versão 5.7.18\n"
     ]
    }
   ],
   "source": [
    "#conectar ao servidor\n",
    "con = mysql.connector.connect(host='3.89.36.150',database='e2122g4',user='e2122g4',password='e2122g4@16@ago')#conexão\n",
    "\n",
    "cursor = con.cursor() #cursor\n",
    "#conectar ao cursor\n",
    "if con.is_connected(): #se está conectado\n",
    "    db_info = con.get_server_info()\n",
    "    print(\"Conectado ao servidor MySQL versão\",db_info)"
   ]
  },
  {
   "cell_type": "code",
   "execution_count": 8,
   "id": "b249fb70",
   "metadata": {},
   "outputs": [
    {
     "data": {
      "text/plain": [
       "<mysql.connector.connection.MySQLConnection at 0x27024cce5e0>"
      ]
     },
     "execution_count": 8,
     "metadata": {},
     "output_type": "execute_result"
    }
   ],
   "source": [
    "con #conetar\n"
   ]
  },
  {
   "cell_type": "code",
   "execution_count": null,
   "id": "a0c22076",
   "metadata": {},
   "outputs": [
    {
     "name": "stderr",
     "output_type": "stream",
     "text": [
      "C:\\Users\\alvar\\anaconda3\\lib\\site-packages\\pandas\\io\\sql.py:761: UserWarning: pandas only support SQLAlchemy connectable(engine/connection) ordatabase string URI or sqlite3 DBAPI2 connectionother DBAPI2 objects are not tested, please consider using SQLAlchemy\n",
      "  warnings.warn(\n"
     ]
    }
   ],
   "source": [
    "previsao = pd.read_sql_query('SELECT * FROM PREVISAO',con) #comando que será executado\n"
   ]
  },
  {
   "cell_type": "code",
   "execution_count": null,
   "id": "04a469d2",
   "metadata": {},
   "outputs": [],
   "source": [
    "previsao[['CHUVA','PRECISAO']] = previsao['MM_CHUVA_PRECI'].str.split('-',expand=True)"
   ]
  },
  {
   "cell_type": "code",
   "execution_count": null,
   "id": "683d3ea9",
   "metadata": {},
   "outputs": [],
   "source": [
    "previsao['CHUVA'] = previsao['CHUVA'].str.replace('mm','')"
   ]
  },
  {
   "cell_type": "code",
   "execution_count": null,
   "id": "c092346c",
   "metadata": {},
   "outputs": [],
   "source": [
    "previsao['PRECISAO'] = previsao['PRECISAO'].str.replace('%','')"
   ]
  },
  {
   "cell_type": "code",
   "execution_count": null,
   "id": "c9f18e0d",
   "metadata": {},
   "outputs": [],
   "source": [
    "previsao_final = previsao[['DATA','DIA_SEMANA','CHUVA','PRECISAO']]"
   ]
  },
  {
   "cell_type": "code",
   "execution_count": null,
   "id": "ecbaf5c0",
   "metadata": {},
   "outputs": [],
   "source": [
    "previsao_final['PRECISAO'] = previsao_final['PRECISAO'].astype('int32')"
   ]
  },
  {
   "cell_type": "code",
   "execution_count": null,
   "id": "cad83669",
   "metadata": {},
   "outputs": [],
   "source": [
    "cursor.execute('''\n",
    "     DROP TABLE IF EXISTS PREVISAO_TRATADA;\n",
    " ''')\n",
    "\n",
    "cursor.execute('''\n",
    "    CREATE TABLE PREVISAO_TRATADA(\n",
    "        PREVISAO_ID INTEGER PRIMARY KEY AUTO_INCREMENT,\n",
    "        PREVISAO_DATA DATE NOT NULL,\n",
    "        PREVISAO_CHUVA INTEGER NOT NULL,\n",
    "        PREVISAO_PREVISAO INTEGER NOT NULL\n",
    "   );\n",
    "''')\n",
    "\n",
    "\n",
    "sql=('INSERT INTO PREVISAO_TRATADA (PREVISAO_DATA,PREVISAO_CHUVA,PREVISAO_PREVISAO) VALUES (%s,%s,%s) ')\n",
    "for index, row in previsao_final.iterrows():\n",
    "    val=(row.DATA,row.CHUVA,row.PRECISAO)    \n",
    "    cursor.execute(sql,val)\n",
    "con.commit()\n",
    "print('Adição de registros completa.')\n",
    "con.close()"
   ]
  },
  {
   "cell_type": "code",
   "execution_count": null,
   "id": "3fa3022d",
   "metadata": {},
   "outputs": [],
   "source": [
    "#Fechar conexão\n",
    "cursor.close()\n",
    "con.close()\n",
    "print(\"Conexão encerrada\")"
   ]
  }
 ],
 "metadata": {
  "kernelspec": {
   "display_name": "Python 3 (ipykernel)",
   "language": "python",
   "name": "python3"
  },
  "language_info": {
   "codemirror_mode": {
    "name": "ipython",
    "version": 3
   },
   "file_extension": ".py",
   "mimetype": "text/x-python",
   "name": "python",
   "nbconvert_exporter": "python",
   "pygments_lexer": "ipython3",
   "version": "3.10.7"
  },
  "vscode": {
   "interpreter": {
    "hash": "0d281db42c31df127427816bc60fc2907c9228cd9dfcc825ec9cbf0749fee5c1"
   }
  }
 },
 "nbformat": 4,
 "nbformat_minor": 5
}
